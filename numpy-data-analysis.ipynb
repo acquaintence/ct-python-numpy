{
  "cells": [
    {
      "cell_type": "markdown",
      "metadata": {
        "id": "KdERlTpFuL5V"
      },
      "source": [
        "# Exercises"
      ]
    },
    {
      "cell_type": "markdown",
      "metadata": {
        "id": "to-gsrQyuL5Z"
      },
      "source": [
        "### #1 - Calculate the BMI (body mass index) on the two lists below using NDArrays..."
      ]
    },
    {
      "cell_type": "code",
      "execution_count": 4,
      "metadata": {
        "id": "iZlf9DzeuL5a"
      },
      "outputs": [
        {
          "data": {
            "text/plain": [
              "array([16.87, 17.88, 18.83, 19.71, 20.55, 21.33, 22.06])"
            ]
          },
          "execution_count": 4,
          "metadata": {},
          "output_type": "execute_result"
        }
      ],
      "source": [
        "import numpy as np\n",
        "# formula = weight / (height**2) * 730\n",
        "height = [69, 70, 71, 72, 73, 74, 75]\n",
        "weight = [110, 120, 130, 140, 150, 160, 170]\n",
        "\n",
        "height =np.array([69, 70, 71, 72, 73, 74, 75])\n",
        "weight = np.array([110, 120, 130, 140, 150, 160, 170])\n",
        "bmi = np.round((weight / (height**2) * 730),decimals = 2)\n",
        "bmi "
      ]
    },
    {
      "cell_type": "markdown",
      "metadata": {
        "id": "RSsT8w8ouL5b"
      },
      "source": [
        "### #2 - Create a function that will take in two parameters and will create a random matrix based off of those parameters. Extra: Have additional parameters taken in that allow the user to choose the shape and data type of the matrix."
      ]
    },
    {
      "cell_type": "code",
      "execution_count": 15,
      "metadata": {
        "id": "ygFvj0aeuL5b"
      },
      "outputs": [
        {
          "name": "stdout",
          "output_type": "stream",
          "text": [
            "[[6.13 6.26 8.93]\n",
            " [9.18 2.74 5.17]\n",
            " [7.66 7.12 9.65]]\n"
          ]
        }
      ],
      "source": [
        "import numpy as np \n",
        "def makeRandoMatrix(minValue, maxValue, shape): \n",
        "    \"\"\"\n",
        "    make a random matrix! \n",
        "    minValue = int\n",
        "    maxValue = int \n",
        "    shape = (int, int)\"\"\"\n",
        "    matrix = np.round((np.random.uniform(minValue,maxValue, shape)), decimals = 2) \n",
        "    return matrix \n",
        "\n",
        "print(makeRandoMatrix(0,10,(3,3)))\n"
      ]
    },
    {
      "cell_type": "markdown",
      "metadata": {
        "id": "e5mP1UX9uL5c"
      },
      "source": [
        "### #3 - Extra: Open and load the data in the two text files that have the Boston Red Sox hitting data for the past seasons. Compare the difference in the two years by putting the data into an NDArray and running a differencial operation on it. The column to look for will be SLG.\n",
        "\n",
        "Your output should display which year (either 2017 or 2018) was a better year based on SLG"
      ]
    },
    {
      "cell_type": "code",
      "execution_count": 16,
      "metadata": {
        "id": "iAExC-SjuL5c"
      },
      "outputs": [
        {
          "name": "stdout",
          "output_type": "stream",
          "text": [
            "<_csv.reader object at 0x1118bff40>\n"
          ]
        }
      ],
      "source": [
        "import csv\n",
        "import numpy as np\n",
        "\n",
        "def open_csv(filename, d=','):\n",
        "    # define an empty list to store data\n",
        "    data = []\n",
        "    \n",
        "    # use the 'with' keyword to load from csv and store into data\n",
        "    with open(filename, encoding='utf-8-sig') as mData:\n",
        "        # use reader method in csv package to create python list\n",
        "        info = csv.reader(mData, delimiter = d)\n",
        "        print(info)\n",
        "        \n",
        "        # loop over info and append to data\n",
        "        for row in info:\n",
        "            data.append(row)\n",
        "        \n",
        "    # no need to close file, using with statement closes automatically\n",
        "    return data\n",
        "\n",
        "csv_data = open_csv('../Desktop/Coding Temple Assignments/boston_marathon2017_edited.csv')\n"
      ]
    },
    {
      "cell_type": "code",
      "execution_count": 27,
      "metadata": {
        "id": "P8Rwr8lmuL5e"
      },
      "outputs": [
        {
          "name": "stdout",
          "output_type": "stream",
          "text": [
            "This is the SLG avg for 2017: 0.39334782374941785\n",
            "This is the SLG avg for 2018: 0.38750000335276125\n",
            "The SLG avg was 0.0058478203966566 higher in 2017\n"
          ]
        }
      ],
      "source": [
        "FIELDS = ['Rk', 'Pos', 'Name', 'Age', 'G', 'PA', 'AB', 'R', 'H', '2B', '3B', 'HR', 'RBI', 'SB', 'CS', \n",
        "          'BB', 'SO', 'BA', 'OBP', 'SLG', 'OPS', 'OPS+', 'TB', 'GDP', 'HBP', 'SH', 'SF', 'IBB']\n",
        "\n",
        "DATATYPES = [('rk', 'i'), ('pos', '|S25'), ('name', '|S25'), ('age', 'i'), ('g', 'i'), ('pa', 'i'), ('ab', 'i'),\n",
        "                ('r', 'i'), ('h', 'i'), ('2b', 'i'), ('3b', 'i'), ('hr', 'i'), ('rbi', 'i'), ('sb', 'i'), ('cs', 'i'),\n",
        "                ('bb', 'i'), ('so', 'i'), ('ba', 'f'), ('obp', 'f'), ('slg', 'f'), ('ops', 'f'), ('opsp', 'i'),\n",
        "                ('tb', 'i'), ('gdp', 'i'), ('hbp', 'i'), ('sh', 'i'), ('sf', 'i'), ('ibb', 'i')]\n",
        "\n",
        "#Use this function to actually open the data inside of a NDArray\n",
        "\n",
        "def load_data(filename, d = ','):\n",
        "    data = np.genfromtxt(filename,delimiter = d, skip_header = 1,\n",
        "                        usecols = np.arange(0,24),invalid_raise=False,\n",
        "                        names = FIELDS, dtype = DATATYPES)\n",
        "    return data\n",
        "\n",
        "bs2017 = load_data('../Downloads/redsox_2017_hitting.txt')\n",
        "bs2018 = load_data('../Downloads/redsox_2018_hitting.txt')\n",
        "\n",
        "avgslg2017 = sum(bs2017[\"SLG\"])/len(bs2017[\"SLG\"])\n",
        "avgslg2018 = sum(bs2018[\"SLG\"])/len(bs2018[\"SLG\"])\n",
        "\n",
        "avg_slg = (avgslg2018,avgslg2017)\n",
        "\n",
        "print(f\"This is the SLG avg for 2017: {avgslg2017}\")\n",
        "print(f\"This is the SLG avg for 2018: {avgslg2018}\")\n",
        "\n",
        "print(f'The SLG avg was {(max(avg_slg) - min(avg_slg))} higher in 2017.')\n",
        "\n"
      ]
    }
  ],
  "metadata": {
    "colab": {
      "name": "Copy of Data_Science_Day_1_Exercises-Day1- Homework.ipynb",
      "provenance": []
    },
    "kernelspec": {
      "display_name": "Python 3",
      "language": "python",
      "name": "python3"
    },
    "language_info": {
      "codemirror_mode": {
        "name": "ipython",
        "version": 3
      },
      "file_extension": ".py",
      "mimetype": "text/x-python",
      "name": "python",
      "nbconvert_exporter": "python",
      "pygments_lexer": "ipython3",
      "version": "3.11.5"
    }
  },
  "nbformat": 4,
  "nbformat_minor": 0
}
